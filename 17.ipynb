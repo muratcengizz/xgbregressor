{
 "cells": [
  {
   "cell_type": "markdown",
   "id": "ad10d496-82df-494d-98e7-2e1ec8115907",
   "metadata": {},
   "source": [
    "# XGBoost Algoritması Regresyon Modeli Kuralım."
   ]
  },
  {
   "cell_type": "code",
   "execution_count": 1,
   "id": "11f98aab-5ad7-4b39-80d1-a58e4fc36c4d",
   "metadata": {},
   "outputs": [],
   "source": [
    "import numpy as np\n",
    "import pandas as pd\n",
    "import seaborn as sns\n",
    "import matplotlib.pyplot as plt\n",
    "from xgboost import XGBRegressor\n",
    "from sklearn.model_selection import train_test_split, GridSearchCV\n",
    "from sklearn.metrics import r2_score, mean_squared_error\n",
    "from sklearn.preprocessing import StandardScaler"
   ]
  },
  {
   "cell_type": "code",
   "execution_count": 2,
   "id": "7a191a2b-abc9-412a-aa12-b1d7aca26729",
   "metadata": {},
   "outputs": [
    {
     "data": {
      "text/html": [
       "<div>\n",
       "<style scoped>\n",
       "    .dataframe tbody tr th:only-of-type {\n",
       "        vertical-align: middle;\n",
       "    }\n",
       "\n",
       "    .dataframe tbody tr th {\n",
       "        vertical-align: top;\n",
       "    }\n",
       "\n",
       "    .dataframe thead th {\n",
       "        text-align: right;\n",
       "    }\n",
       "</style>\n",
       "<table border=\"1\" class=\"dataframe\">\n",
       "  <thead>\n",
       "    <tr style=\"text-align: right;\">\n",
       "      <th></th>\n",
       "      <th>Category</th>\n",
       "      <th>Price</th>\n",
       "      <th>Discount</th>\n",
       "      <th>Sales</th>\n",
       "    </tr>\n",
       "  </thead>\n",
       "  <tbody>\n",
       "    <tr>\n",
       "      <th>0</th>\n",
       "      <td>Ev &amp; Yaşam</td>\n",
       "      <td>496</td>\n",
       "      <td>0.166828</td>\n",
       "      <td>413.253465</td>\n",
       "    </tr>\n",
       "    <tr>\n",
       "      <th>1</th>\n",
       "      <td>Spor</td>\n",
       "      <td>194</td>\n",
       "      <td>0.124251</td>\n",
       "      <td>169.895360</td>\n",
       "    </tr>\n",
       "    <tr>\n",
       "      <th>2</th>\n",
       "      <td>Elektronik</td>\n",
       "      <td>250</td>\n",
       "      <td>0.263205</td>\n",
       "      <td>184.198636</td>\n",
       "    </tr>\n",
       "    <tr>\n",
       "      <th>3</th>\n",
       "      <td>Ev &amp; Yaşam</td>\n",
       "      <td>466</td>\n",
       "      <td>0.228888</td>\n",
       "      <td>359.338039</td>\n",
       "    </tr>\n",
       "    <tr>\n",
       "      <th>4</th>\n",
       "      <td>Ev &amp; Yaşam</td>\n",
       "      <td>261</td>\n",
       "      <td>0.197277</td>\n",
       "      <td>209.510668</td>\n",
       "    </tr>\n",
       "  </tbody>\n",
       "</table>\n",
       "</div>"
      ],
      "text/plain": [
       "     Category  Price  Discount       Sales\n",
       "0  Ev & Yaşam    496  0.166828  413.253465\n",
       "1        Spor    194  0.124251  169.895360\n",
       "2  Elektronik    250  0.263205  184.198636\n",
       "3  Ev & Yaşam    466  0.228888  359.338039\n",
       "4  Ev & Yaşam    261  0.197277  209.510668"
      ]
     },
     "execution_count": 2,
     "metadata": {},
     "output_type": "execute_result"
    }
   ],
   "source": [
    "# Veri setini oluşturalım.\n",
    "np.random.seed(42)\n",
    "n_samples = 1000\n",
    "\n",
    "categories = np.random.choice(['Elektronik', 'Giyim', 'Ev & Yaşam', 'Spor'], n_samples)\n",
    "prices = np.random.randint(50, 500, n_samples)\n",
    "discounts = np.random.uniform(0.05, 0.3, n_samples)\n",
    "sales = prices * (1 - discounts)\n",
    "\n",
    "data = pd.DataFrame({\n",
    "    'Category': categories,\n",
    "    'Price': prices,\n",
    "    'Discount': discounts,\n",
    "    'Sales': sales\n",
    "})\n",
    "data.head()"
   ]
  },
  {
   "cell_type": "markdown",
   "id": "4f46b49f-dc6f-431a-b651-fbb8c1f26b70",
   "metadata": {},
   "source": [
    "# Veri Analizi"
   ]
  },
  {
   "cell_type": "code",
   "execution_count": 3,
   "id": "1cf6888f-7e7e-4cfa-a41b-170a379e369e",
   "metadata": {},
   "outputs": [
    {
     "data": {
      "text/html": [
       "<div>\n",
       "<style scoped>\n",
       "    .dataframe tbody tr th:only-of-type {\n",
       "        vertical-align: middle;\n",
       "    }\n",
       "\n",
       "    .dataframe tbody tr th {\n",
       "        vertical-align: top;\n",
       "    }\n",
       "\n",
       "    .dataframe thead th {\n",
       "        text-align: right;\n",
       "    }\n",
       "</style>\n",
       "<table border=\"1\" class=\"dataframe\">\n",
       "  <thead>\n",
       "    <tr style=\"text-align: right;\">\n",
       "      <th></th>\n",
       "      <th>count</th>\n",
       "      <th>mean</th>\n",
       "      <th>std</th>\n",
       "      <th>min</th>\n",
       "      <th>25%</th>\n",
       "      <th>50%</th>\n",
       "      <th>75%</th>\n",
       "      <th>max</th>\n",
       "    </tr>\n",
       "  </thead>\n",
       "  <tbody>\n",
       "    <tr>\n",
       "      <th>Price</th>\n",
       "      <td>1000.0</td>\n",
       "      <td>273.347000</td>\n",
       "      <td>131.110612</td>\n",
       "      <td>50.000000</td>\n",
       "      <td>160.000000</td>\n",
       "      <td>276.500000</td>\n",
       "      <td>382.250000</td>\n",
       "      <td>499.000000</td>\n",
       "    </tr>\n",
       "    <tr>\n",
       "      <th>Discount</th>\n",
       "      <td>1000.0</td>\n",
       "      <td>0.174477</td>\n",
       "      <td>0.071844</td>\n",
       "      <td>0.050083</td>\n",
       "      <td>0.109569</td>\n",
       "      <td>0.176927</td>\n",
       "      <td>0.236846</td>\n",
       "      <td>0.299084</td>\n",
       "    </tr>\n",
       "    <tr>\n",
       "      <th>Sales</th>\n",
       "      <td>1000.0</td>\n",
       "      <td>225.411298</td>\n",
       "      <td>110.052578</td>\n",
       "      <td>36.319001</td>\n",
       "      <td>130.691994</td>\n",
       "      <td>227.255605</td>\n",
       "      <td>313.330587</td>\n",
       "      <td>458.427112</td>\n",
       "    </tr>\n",
       "  </tbody>\n",
       "</table>\n",
       "</div>"
      ],
      "text/plain": [
       "           count        mean         std        min         25%         50%  \\\n",
       "Price     1000.0  273.347000  131.110612  50.000000  160.000000  276.500000   \n",
       "Discount  1000.0    0.174477    0.071844   0.050083    0.109569    0.176927   \n",
       "Sales     1000.0  225.411298  110.052578  36.319001  130.691994  227.255605   \n",
       "\n",
       "                 75%         max  \n",
       "Price     382.250000  499.000000  \n",
       "Discount    0.236846    0.299084  \n",
       "Sales     313.330587  458.427112  "
      ]
     },
     "execution_count": 3,
     "metadata": {},
     "output_type": "execute_result"
    }
   ],
   "source": [
    "data.describe().T"
   ]
  },
  {
   "cell_type": "code",
   "execution_count": 4,
   "id": "122c5c1b-77dd-45a4-93c6-24a95e988832",
   "metadata": {},
   "outputs": [
    {
     "name": "stdout",
     "output_type": "stream",
     "text": [
      "<class 'pandas.core.frame.DataFrame'>\n",
      "RangeIndex: 1000 entries, 0 to 999\n",
      "Data columns (total 4 columns):\n",
      " #   Column    Non-Null Count  Dtype  \n",
      "---  ------    --------------  -----  \n",
      " 0   Category  1000 non-null   object \n",
      " 1   Price     1000 non-null   int32  \n",
      " 2   Discount  1000 non-null   float64\n",
      " 3   Sales     1000 non-null   float64\n",
      "dtypes: float64(2), int32(1), object(1)\n",
      "memory usage: 27.5+ KB\n"
     ]
    }
   ],
   "source": [
    "data.info()"
   ]
  },
  {
   "cell_type": "code",
   "execution_count": 5,
   "id": "fe4365e9-2f2c-4409-b553-9174bb2fc64d",
   "metadata": {},
   "outputs": [
    {
     "data": {
      "text/html": [
       "<div>\n",
       "<style scoped>\n",
       "    .dataframe tbody tr th:only-of-type {\n",
       "        vertical-align: middle;\n",
       "    }\n",
       "\n",
       "    .dataframe tbody tr th {\n",
       "        vertical-align: top;\n",
       "    }\n",
       "\n",
       "    .dataframe thead th {\n",
       "        text-align: right;\n",
       "    }\n",
       "</style>\n",
       "<table border=\"1\" class=\"dataframe\">\n",
       "  <thead>\n",
       "    <tr style=\"text-align: right;\">\n",
       "      <th></th>\n",
       "      <th>Price</th>\n",
       "      <th>Discount</th>\n",
       "      <th>Sales</th>\n",
       "    </tr>\n",
       "  </thead>\n",
       "  <tbody>\n",
       "    <tr>\n",
       "      <th>Price</th>\n",
       "      <td>1.000000</td>\n",
       "      <td>0.025809</td>\n",
       "      <td>0.979836</td>\n",
       "    </tr>\n",
       "    <tr>\n",
       "      <th>Discount</th>\n",
       "      <td>0.025809</td>\n",
       "      <td>1.000000</td>\n",
       "      <td>-0.154977</td>\n",
       "    </tr>\n",
       "    <tr>\n",
       "      <th>Sales</th>\n",
       "      <td>0.979836</td>\n",
       "      <td>-0.154977</td>\n",
       "      <td>1.000000</td>\n",
       "    </tr>\n",
       "  </tbody>\n",
       "</table>\n",
       "</div>"
      ],
      "text/plain": [
       "             Price  Discount     Sales\n",
       "Price     1.000000  0.025809  0.979836\n",
       "Discount  0.025809  1.000000 -0.154977\n",
       "Sales     0.979836 -0.154977  1.000000"
      ]
     },
     "execution_count": 5,
     "metadata": {},
     "output_type": "execute_result"
    }
   ],
   "source": [
    "data.corr()"
   ]
  },
  {
   "cell_type": "code",
   "execution_count": 6,
   "id": "ace01a20-95df-469e-bc8b-8227bb18a7cc",
   "metadata": {},
   "outputs": [
    {
     "data": {
      "text/plain": [
       "Price       17189.992584\n",
       "Discount        0.005162\n",
       "Sales       12111.569837\n",
       "dtype: float64"
      ]
     },
     "execution_count": 6,
     "metadata": {},
     "output_type": "execute_result"
    }
   ],
   "source": [
    "data.var(numeric_only=True)"
   ]
  },
  {
   "cell_type": "code",
   "execution_count": 7,
   "id": "552d2a06-42c5-41b9-94ab-644f98139874",
   "metadata": {},
   "outputs": [
    {
     "data": {
      "text/plain": [
       "0"
      ]
     },
     "execution_count": 7,
     "metadata": {},
     "output_type": "execute_result"
    }
   ],
   "source": [
    "data.isnull().any().sum()"
   ]
  },
  {
   "cell_type": "code",
   "execution_count": 8,
   "id": "c84feb3b-e1ff-4183-8c85-22b44c3f7663",
   "metadata": {},
   "outputs": [
    {
     "data": {
      "image/png": "[encoded data removed]",
      "text/plain": [
       "<Figure size 432x288 with 1 Axes>"
      ]
     },
     "metadata": {
      "needs_background": "light"
     },
     "output_type": "display_data"
    }
   ],
   "source": [
    "sns.boxplot(data=data);"
   ]
  },
  {
   "cell_type": "code",
   "execution_count": 9,
   "id": "02ebf321-1c78-495d-9941-a87e1e418f98",
   "metadata": {},
   "outputs": [
    {
     "data": {
      "image/png": "[encoded data removed]",
      "text/plain": [
       "<Figure size 720x432 with 1 Axes>"
      ]
     },
     "metadata": {
      "needs_background": "light"
     },
     "output_type": "display_data"
    }
   ],
   "source": [
    "plt.figure(figsize=(10, 6))\n",
    "sns.scatterplot(data=data, x='Price', y='Sales', hue='Category')\n",
    "plt.title('Satışlar ve Fiyatlar')\n",
    "plt.show()"
   ]
  },
  {
   "cell_type": "code",
   "execution_count": 10,
   "id": "e7731b21-8908-406a-8d96-41b2429a786f",
   "metadata": {},
   "outputs": [
    {
     "data": {
      "image/png": "[encoded data removed]",
      "text/plain": [
       "<Figure size 576x432 with 1 Axes>"
      ]
     },
     "metadata": {
      "needs_background": "light"
     },
     "output_type": "display_data"
    }
   ],
   "source": [
    "category_sales = data.groupby('Category')['Sales'].sum()\n",
    "\n",
    "plt.figure(figsize=(8, 6))\n",
    "category_sales.plot(kind='bar')\n",
    "plt.title('Kategoriye Göre Toplam Satışlar')\n",
    "plt.xlabel('Kategori')\n",
    "plt.ylabel('Toplam Satış')\n",
    "plt.xticks(rotation=45)\n",
    "plt.show()"
   ]
  },
  {
   "cell_type": "markdown",
   "id": "44e6f0f8-5e22-45b2-bfba-f6b25ffcbaed",
   "metadata": {},
   "source": [
    "# Veri Ön İşleme"
   ]
  },
  {
   "cell_type": "code",
   "execution_count": 11,
   "id": "b3c6668c-1847-45ae-ad30-733ee571cf29",
   "metadata": {},
   "outputs": [
    {
     "data": {
      "text/html": [
       "<div>\n",
       "<style scoped>\n",
       "    .dataframe tbody tr th:only-of-type {\n",
       "        vertical-align: middle;\n",
       "    }\n",
       "\n",
       "    .dataframe tbody tr th {\n",
       "        vertical-align: top;\n",
       "    }\n",
       "\n",
       "    .dataframe thead th {\n",
       "        text-align: right;\n",
       "    }\n",
       "</style>\n",
       "<table border=\"1\" class=\"dataframe\">\n",
       "  <thead>\n",
       "    <tr style=\"text-align: right;\">\n",
       "      <th></th>\n",
       "      <th>Category</th>\n",
       "      <th>Price</th>\n",
       "      <th>Discount</th>\n",
       "      <th>Sales</th>\n",
       "    </tr>\n",
       "  </thead>\n",
       "  <tbody>\n",
       "    <tr>\n",
       "      <th>0</th>\n",
       "      <td>Ev &amp; Yaşam</td>\n",
       "      <td>496</td>\n",
       "      <td>0.166828</td>\n",
       "      <td>413.253465</td>\n",
       "    </tr>\n",
       "  </tbody>\n",
       "</table>\n",
       "</div>"
      ],
      "text/plain": [
       "     Category  Price  Discount       Sales\n",
       "0  Ev & Yaşam    496  0.166828  413.253465"
      ]
     },
     "execution_count": 11,
     "metadata": {},
     "output_type": "execute_result"
    }
   ],
   "source": [
    "data.head(1)"
   ]
  },
  {
   "cell_type": "code",
   "execution_count": 12,
   "id": "a065e593-dfb0-459f-b480-87b163c0bb8e",
   "metadata": {},
   "outputs": [],
   "source": [
    "# Kategori değişkenini sayısal değişkene çevirelim.\n",
    "data['Category'] = data['Category'].map({\n",
    "    'Elektronik':0,\n",
    "    'Ev & Yaşam':1, \n",
    "    'Giyim': 2,\n",
    "    'Spor': 3\n",
    "})"
   ]
  },
  {
   "cell_type": "code",
   "execution_count": 13,
   "id": "76adb243-240f-49a4-9530-51f750befd15",
   "metadata": {},
   "outputs": [],
   "source": [
    "# Değişkenleri Standartlaştıralım.\n",
    "lbe = StandardScaler()\n",
    "\n",
    "data['Category'] = lbe.fit_transform(data['Category'].values.reshape(-1, 1))\n",
    "data['Price'] = lbe.fit_transform(data['Price'].values.reshape(-1, 1))\n",
    "data['Discount'] = lbe.fit_transform(data['Discount'].values.reshape(-1, 1))"
   ]
  },
  {
   "cell_type": "code",
   "execution_count": 14,
   "id": "25b6bb56-0866-4783-8a87-e52342a6a16c",
   "metadata": {},
   "outputs": [
    {
     "data": {
      "text/html": [
       "<div>\n",
       "<style scoped>\n",
       "    .dataframe tbody tr th:only-of-type {\n",
       "        vertical-align: middle;\n",
       "    }\n",
       "\n",
       "    .dataframe tbody tr th {\n",
       "        vertical-align: top;\n",
       "    }\n",
       "\n",
       "    .dataframe thead th {\n",
       "        text-align: right;\n",
       "    }\n",
       "</style>\n",
       "<table border=\"1\" class=\"dataframe\">\n",
       "  <thead>\n",
       "    <tr style=\"text-align: right;\">\n",
       "      <th></th>\n",
       "      <th>Category</th>\n",
       "      <th>Price</th>\n",
       "      <th>Discount</th>\n",
       "      <th>Sales</th>\n",
       "    </tr>\n",
       "  </thead>\n",
       "  <tbody>\n",
       "    <tr>\n",
       "      <th>0</th>\n",
       "      <td>-0.462176</td>\n",
       "      <td>1.699057</td>\n",
       "      <td>-0.106529</td>\n",
       "      <td>413.253465</td>\n",
       "    </tr>\n",
       "  </tbody>\n",
       "</table>\n",
       "</div>"
      ],
      "text/plain": [
       "   Category     Price  Discount       Sales\n",
       "0 -0.462176  1.699057 -0.106529  413.253465"
      ]
     },
     "execution_count": 14,
     "metadata": {},
     "output_type": "execute_result"
    }
   ],
   "source": [
    "data.head(1)"
   ]
  },
  {
   "cell_type": "markdown",
   "id": "f07a277a-6633-4844-8608-10d68bca8e69",
   "metadata": {},
   "source": [
    "# Model "
   ]
  },
  {
   "cell_type": "code",
   "execution_count": 15,
   "id": "72d3b76c-210a-41d5-b062-f8434fa4848c",
   "metadata": {},
   "outputs": [],
   "source": [
    "# Bağımlı ve bağımsız değişkenleri oluşturalım.\n",
    "X = data.drop('Sales', axis=1)\n",
    "y = data['Sales']"
   ]
  },
  {
   "cell_type": "code",
   "execution_count": 16,
   "id": "ab54d9c4-daa3-41f9-9313-f0e1434d2e9f",
   "metadata": {},
   "outputs": [],
   "source": [
    "# Eğitim ve test setlerini ayıralım.\n",
    "X_train, X_test, y_train, y_test = train_test_split(X, y, test_size=0.2, random_state=42)"
   ]
  },
  {
   "cell_type": "code",
   "execution_count": 17,
   "id": "3e69a306-81be-4487-b10e-91a17fe122de",
   "metadata": {},
   "outputs": [],
   "source": [
    "# Modeli oluşturalım ve eğitelim.\n",
    "model = XGBRegressor().fit(X_train, y_train)"
   ]
  },
  {
   "cell_type": "code",
   "execution_count": 18,
   "id": "2cdfab47-8dc5-4466-967a-a879478b8c68",
   "metadata": {},
   "outputs": [],
   "source": [
    "# Tahmin işlemi yapalım.\n",
    "predict = model.predict(X_test)"
   ]
  },
  {
   "cell_type": "code",
   "execution_count": 19,
   "id": "e28b5023-7e7c-45f4-8106-2c740ccde59c",
   "metadata": {},
   "outputs": [
    {
     "name": "stdout",
     "output_type": "stream",
     "text": [
      "R^2:  0.9986283536356866\n",
      "MSE:  15.807002132880791\n",
      "RMSE:  3.9758020741582185\n"
     ]
    }
   ],
   "source": [
    "# Modeli Değerlendirelim.\n",
    "r2 = r2_score(y_test, predict)\n",
    "mse = mean_squared_error(y_test, predict)\n",
    "rmse = np.sqrt(mse)\n",
    "\n",
    "print('R^2: ', r2)\n",
    "print('MSE: ', mse)\n",
    "print('RMSE: ', rmse)"
   ]
  },
  {
   "cell_type": "code",
   "execution_count": 20,
   "id": "7aaf13a8-c25c-429d-a44d-568aceea34ea",
   "metadata": {},
   "outputs": [
    {
     "data": {
      "image/png": "[encoded data removed]",
      "text/plain": [
       "<Figure size 720x432 with 1 Axes>"
      ]
     },
     "metadata": {
      "needs_background": "light"
     },
     "output_type": "display_data"
    }
   ],
   "source": [
    "plt.figure(figsize=(10, 6))\n",
    "sns.scatterplot(x=y_test, y=predict)\n",
    "plt.title('Tahmin Edilen Değerler vs Gerçek Değerler')\n",
    "plt.xlabel('Gerçek Değerler')\n",
    "plt.ylabel('Tahmin Değerleri')\n",
    "plt.show()"
   ]
  },
  {
   "cell_type": "markdown",
   "id": "ea8a8aa7-6c8a-4dfb-abdc-5357d611f13c",
   "metadata": {},
   "source": [
    "# Model Tuning"
   ]
  },
  {
   "cell_type": "code",
   "execution_count": 21,
   "id": "345fd5c5-ab5b-485d-9de5-32528e5286e4",
   "metadata": {},
   "outputs": [
    {
     "data": {
      "text/plain": [
       "{'objective': 'reg:squarederror',\n",
       " 'base_score': None,\n",
       " 'booster': None,\n",
       " 'callbacks': None,\n",
       " 'colsample_bylevel': None,\n",
       " 'colsample_bynode': None,\n",
       " 'colsample_bytree': None,\n",
       " 'early_stopping_rounds': None,\n",
       " 'enable_categorical': False,\n",
       " 'eval_metric': None,\n",
       " 'feature_types': None,\n",
       " 'gamma': None,\n",
       " 'gpu_id': None,\n",
       " 'grow_policy': None,\n",
       " 'importance_type': None,\n",
       " 'interaction_constraints': None,\n",
       " 'learning_rate': None,\n",
       " 'max_bin': None,\n",
       " 'max_cat_threshold': None,\n",
       " 'max_cat_to_onehot': None,\n",
       " 'max_delta_step': None,\n",
       " 'max_depth': None,\n",
       " 'max_leaves': None,\n",
       " 'min_child_weight': None,\n",
       " 'missing': nan,\n",
       " 'monotone_constraints': None,\n",
       " 'n_estimators': 100,\n",
       " 'n_jobs': None,\n",
       " 'num_parallel_tree': None,\n",
       " 'predictor': None,\n",
       " 'random_state': None,\n",
       " 'reg_alpha': None,\n",
       " 'reg_lambda': None,\n",
       " 'sampling_method': None,\n",
       " 'scale_pos_weight': None,\n",
       " 'subsample': None,\n",
       " 'tree_method': None,\n",
       " 'validate_parameters': None,\n",
       " 'verbosity': None}"
      ]
     },
     "execution_count": 21,
     "metadata": {},
     "output_type": "execute_result"
    }
   ],
   "source": [
    "model.get_params()"
   ]
  },
  {
   "cell_type": "code",
   "execution_count": 22,
   "id": "0855431a-a49c-4e0e-b262-82d28468e7d4",
   "metadata": {},
   "outputs": [
    {
     "name": "stdout",
     "output_type": "stream",
     "text": [
      "Best Parameters:  {'learning_rate': 0.1, 'max_depth': 3, 'n_estimators': 1000}\n",
      "Best Score:  0.999319166102002\n"
     ]
    }
   ],
   "source": [
    "params = {\n",
    "    'learning_rate': [None, 0.1, 0.01, 0.001],\n",
    "    'max_depth': [None, 3, 5, 7],\n",
    "    'n_estimators': [100, 200, 300, 500, 1000]\n",
    "}\n",
    "\n",
    "grid = GridSearchCV(estimator=XGBRegressor(), param_grid=params, cv=5)\n",
    "grid.fit(X_train, y_train)\n",
    "\n",
    "best_params = grid.best_params_\n",
    "best_score = grid.best_score_\n",
    "\n",
    "print('Best Parameters: ', best_params)\n",
    "print('Best Score: ', best_score)"
   ]
  },
  {
   "cell_type": "markdown",
   "id": "bbe53d38-b676-4038-a543-255052989837",
   "metadata": {},
   "source": [
    "### Model tuning kısmında bulduğumuz hiperparametreleri kullanarak modelimizi tekrar oluşturalım."
   ]
  },
  {
   "cell_type": "code",
   "execution_count": 24,
   "id": "8051f12b-3f4d-49b7-8cb7-27c1819bc10a",
   "metadata": {},
   "outputs": [
    {
     "name": "stdout",
     "output_type": "stream",
     "text": [
      "R^2:  0.9995020945502603\n",
      "MSE:  5.73791664584648\n",
      "RMSE:  2.395394883071783\n"
     ]
    }
   ],
   "source": [
    "model = XGBRegressor(**best_params).fit(X_train, y_train)\n",
    "predict = model.predict(X_test)\n",
    "\n",
    "r2 = r2_score(y_test, predict)\n",
    "mse = mean_squared_error(y_test, predict)\n",
    "rmse = np.sqrt(mse)\n",
    "\n",
    "print('R^2: ', r2)\n",
    "print('MSE: ', mse)\n",
    "print('RMSE: ', rmse)"
   ]
  },
  {
   "cell_type": "code",
   "execution_count": 26,
   "id": "261e24b0-c716-4192-8ec1-886fab16348b",
   "metadata": {},
   "outputs": [
    {
     "data": {
      "text/html": [
       "<div>\n",
       "<style scoped>\n",
       "    .dataframe tbody tr th:only-of-type {\n",
       "        vertical-align: middle;\n",
       "    }\n",
       "\n",
       "    .dataframe tbody tr th {\n",
       "        vertical-align: top;\n",
       "    }\n",
       "\n",
       "    .dataframe thead th {\n",
       "        text-align: right;\n",
       "    }\n",
       "</style>\n",
       "<table border=\"1\" class=\"dataframe\">\n",
       "  <thead>\n",
       "    <tr style=\"text-align: right;\">\n",
       "      <th></th>\n",
       "      <th>Gerçek Değerler</th>\n",
       "      <th>Tahmini Değerler</th>\n",
       "    </tr>\n",
       "  </thead>\n",
       "  <tbody>\n",
       "    <tr>\n",
       "      <th>521</th>\n",
       "      <td>60.375764</td>\n",
       "      <td>60.913799</td>\n",
       "    </tr>\n",
       "    <tr>\n",
       "      <th>737</th>\n",
       "      <td>191.681690</td>\n",
       "      <td>194.178741</td>\n",
       "    </tr>\n",
       "    <tr>\n",
       "      <th>740</th>\n",
       "      <td>87.851545</td>\n",
       "      <td>84.157127</td>\n",
       "    </tr>\n",
       "    <tr>\n",
       "      <th>660</th>\n",
       "      <td>412.462673</td>\n",
       "      <td>417.015594</td>\n",
       "    </tr>\n",
       "    <tr>\n",
       "      <th>411</th>\n",
       "      <td>242.054898</td>\n",
       "      <td>241.632736</td>\n",
       "    </tr>\n",
       "  </tbody>\n",
       "</table>\n",
       "</div>"
      ],
      "text/plain": [
       "     Gerçek Değerler  Tahmini Değerler\n",
       "521        60.375764         60.913799\n",
       "737       191.681690        194.178741\n",
       "740        87.851545         84.157127\n",
       "660       412.462673        417.015594\n",
       "411       242.054898        241.632736"
      ]
     },
     "execution_count": 26,
     "metadata": {},
     "output_type": "execute_result"
    }
   ],
   "source": [
    "result = pd.DataFrame({\n",
    "    'Gerçek Değerler': y_test,\n",
    "    'Tahmini Değerler': predict\n",
    "})\n",
    "result.head()"
   ]
  }
 ],
 "metadata": {
  "kernelspec": {
   "display_name": "Python 3 (ipykernel)",
   "language": "python",
   "name": "python3"
  },
  "language_info": {
   "codemirror_mode": {
    "name": "ipython",
    "version": 3
   },
   "file_extension": ".py",
   "mimetype": "text/x-python",
   "name": "python",
   "nbconvert_exporter": "python",
   "pygments_lexer": "ipython3",
   "version": "3.9.12"
  }
 },
 "nbformat": 4,
 "nbformat_minor": 5
}
